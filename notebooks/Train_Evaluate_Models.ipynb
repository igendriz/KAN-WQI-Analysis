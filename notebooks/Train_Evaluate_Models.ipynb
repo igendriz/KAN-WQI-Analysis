{
 "cells": [
  {
   "cell_type": "markdown",
   "id": "89d68ce5",
   "metadata": {},
   "source": [
    "# Train and evaluate Kan models"
   ]
  },
  {
   "cell_type": "code",
   "execution_count": null,
   "id": "34333a0b",
   "metadata": {},
   "outputs": [
    {
     "data": {
      "text/plain": [
       "{'fontsize': 6,\n",
       " 'fontfamily': 'serif',\n",
       " 'color': 'black',\n",
       " 'backgroundcolor': 'white'}"
      ]
     },
     "execution_count": 2,
     "metadata": {},
     "output_type": "execute_result"
    }
   ],
   "source": [
    "# === Path and system setup ===\n",
    "from pathlib import Path\n",
    "import sys\n",
    "\n",
    "# === Step 1: Manually set project root ===\n",
    "PROJECT_ROOT = Path().resolve().parents[0]\n",
    "\n",
    "# === Step 2: Add project root to sys.path if not already present ===\n",
    "if str(PROJECT_ROOT) not in sys.path:\n",
    "    sys.path.insert(0, str(PROJECT_ROOT))\n",
    "\n",
    "# === Libraries ===\n",
    "import pandas as pd\n",
    "import numpy as np\n",
    "import matplotlib.pyplot as plt\n",
    "from pathlib import Path\n",
    "import seaborn as sns\n",
    "import matplotlib as mpl\n",
    "from matplotlib import rc\n",
    "\n",
    "from datetime import datetime, timedelta\n",
    "\n",
    "# === Project imports ===\n",
    "from scripts.plot_setup import configure_plots\n",
    "\n",
    "# === Plotting configuration ===\n",
    "_ = configure_plots()"
   ]
  }
 ],
 "metadata": {
  "kernelspec": {
   "display_name": ".venv",
   "language": "python",
   "name": "python3"
  },
  "language_info": {
   "codemirror_mode": {
    "name": "ipython",
    "version": 3
   },
   "file_extension": ".py",
   "mimetype": "text/x-python",
   "name": "python",
   "nbconvert_exporter": "python",
   "pygments_lexer": "ipython3",
   "version": "3.9.7"
  }
 },
 "nbformat": 4,
 "nbformat_minor": 5
}
